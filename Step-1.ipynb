{
 "cells": [
  {
   "cell_type": "markdown",
   "metadata": {},
   "source": [
    "# Basics of NumPy"
   ]
  },
  {
   "cell_type": "code",
   "execution_count": 1,
   "metadata": {},
   "outputs": [
    {
     "name": "stdout",
     "output_type": "stream",
     "text": [
      "[1 2 3 4 5]\n",
      "[[1 2 3]\n",
      " [4 5 6]]\n"
     ]
    }
   ],
   "source": [
    "import numpy as np\n",
    "\n",
    "\n",
    "arr_1d = np.array([1, 2, 3, 4, 5])\n",
    "print(arr_1d)\n",
    "\n",
    "arr_2d = np.array([[1, 2, 3], [4, 5, 6]])\n",
    "print(arr_2d)\n"
   ]
  },
  {
   "cell_type": "markdown",
   "metadata": {},
   "source": [
    "## Array Is Comparatively Faster as the size of operation Increases"
   ]
  },
  {
   "cell_type": "code",
   "execution_count": 2,
   "metadata": {},
   "outputs": [
    {
     "name": "stdout",
     "output_type": "stream",
     "text": [
      "Time taken for list: 0.0001575946807861328\n"
     ]
    }
   ],
   "source": [
    "import time \n",
    "\n",
    "list1 = [1, 2, 3, 4, 5]\n",
    "\n",
    "start = time.time()\n",
    "\n",
    "# Correcting the loop to iterate within the list bounds\n",
    "for i in range(len(list1)):\n",
    "    list1[i] = list1[i] + 2\n",
    "\n",
    "end = time.time()\n",
    "\n",
    "print(\"Time taken for list:\", end - start)"
   ]
  },
  {
   "cell_type": "code",
   "execution_count": 3,
   "metadata": {},
   "outputs": [
    {
     "name": "stdout",
     "output_type": "stream",
     "text": [
      "Time taken for array: 0.00011610984802246094\n"
     ]
    }
   ],
   "source": [
    "import time \n",
    "\n",
    "array1 = np.array([1, 2, 3, 4, 5])\n",
    "\n",
    "start = time.time()\n",
    "\n",
    "for i in range(len(array1)):\n",
    "    array1[i] = array1[i] + 2\n",
    "\n",
    "end = time.time()\n",
    "\n",
    "print(\"Time taken for array:\", end - start)"
   ]
  },
  {
   "cell_type": "code",
   "execution_count": 4,
   "metadata": {},
   "outputs": [
    {
     "name": "stdout",
     "output_type": "stream",
     "text": [
      "zeros array:  [[0. 0. 0. 0.]\n",
      " [0. 0. 0. 0.]\n",
      " [0. 0. 0. 0.]]\n",
      "\n",
      "\n",
      "one array:  [[1. 1. 1.]\n",
      " [1. 1. 1.]]\n",
      "\n",
      "\n",
      "full array:  [[7 7]\n",
      " [7 7]]\n",
      "\n",
      "\n",
      "random array: [[0.9310059  0.89813012 0.89823788]\n",
      " [0.88010708 0.13469583 0.30466969]]\n",
      "\n",
      "\n",
      "even sequnce array:  [ 0  2  4  6  8 10]\n",
      "\n",
      "\n",
      "odd sequnce array:  [ 1  3  5  7  9 11]\n",
      "\n",
      "\n"
     ]
    }
   ],
   "source": [
    "# Array Full of Zeros\n",
    "zeros = np.zeros((3, 4))\n",
    "print(\"zeros array: \", zeros)\n",
    "print(\"\\n\")\n",
    "\n",
    "# Array Full of Ones\n",
    "ones = np.ones((2, 3))\n",
    "print(\"one array: \", ones)\n",
    "print(\"\\n\")\n",
    "\n",
    "# Array Full of a number\n",
    "full = np.full((2, 2), 7)\n",
    "print(\"full array: \", full)\n",
    "print(\"\\n\")\n",
    "\n",
    "# Random Array\n",
    "random = np.random.random((2, 3))\n",
    "print(\"random array:\", random)\n",
    "print(\"\\n\")\n",
    "\n",
    "# Sequence Array of Even Numbers\n",
    "sequence = np.arange(0, 11, 2)\n",
    "print(\"even sequnce array: \", sequence)\n",
    "print(\"\\n\")\n",
    "\n",
    "# Sequence Array of Odd Numbers\n",
    "sequence = np.arange(1, 12, 2)\n",
    "print(\"odd sequnce array: \", sequence)\n",
    "print(\"\\n\")"
   ]
  },
  {
   "cell_type": "markdown",
   "metadata": {},
   "source": [
    "# Vector, Matrix and Tensor"
   ]
  },
  {
   "cell_type": "code",
   "execution_count": 5,
   "metadata": {},
   "outputs": [
    {
     "name": "stdout",
     "output_type": "stream",
     "text": [
      "Vector:  [1 2 3 4 5]\n",
      "\n",
      "\n",
      "Matrix:  [[1 2 3]\n",
      " [4 5 6]]\n",
      "\n",
      "\n",
      "Tensor:  [[1 2]\n",
      " [3 4]\n",
      " [5 6]]\n",
      "\n",
      "\n"
     ]
    }
   ],
   "source": [
    "vector = np.array([1, 2, 3, 4, 5])\n",
    "print(\"Vector: \", vector)\n",
    "print(\"\\n\")\n",
    "\n",
    "matrix = np.array([[1, 2, 3], [4, 5, 6]])\n",
    "print(\"Matrix: \", matrix)\n",
    "print(\"\\n\")\n",
    "\n",
    "tensor = np.array([[1,2], [3,4], [5,6]])\n",
    "print(\"Tensor: \", tensor)\n",
    "print(\"\\n\")"
   ]
  },
  {
   "cell_type": "markdown",
   "metadata": {},
   "source": [
    "# Array Properties"
   ]
  },
  {
   "cell_type": "code",
   "execution_count": null,
   "metadata": {},
   "outputs": [
    {
     "name": "stdout",
     "output_type": "stream",
     "text": [
      "Array:  [[ 1  2  3  4  5]\n",
      " [ 6  7  8  9 10]]\n",
      "Size:  6\n",
      "DType:  int64\n",
      "Shape:  (2, 3)\n",
      "Dimension:  3\n",
      "Tensor:  [[[ 1  2  3]\n",
      "  [ 4  5  6]]\n",
      "\n",
      " [[ 7  8  9]\n",
      "  [10 11 12]]]\n"
     ]
    }
   ],
   "source": [
    "import numpy as np\n",
    "\n",
    "array = np.array([[1, 2, 3, 4, 5],[6, 7, 8, 9, 10]])\n",
    "print(\"Array: \",array)\n",
    "\n",
    "arr = np.array([[1, 2, 3],[4, 5, 6]])\n",
    "\n",
    "tensor = np.array([[[1, 2, 3],[4, 5, 6]],[[7, 8, 9],[10, 11, 12]]])\n",
    "\n",
    "print(\"Size: \", arr.size)\n",
    "print(\"DType: \", arr.dtype)\n",
    "print(\"Shape: \", arr.shape)\n",
    "print(\"Tensor: \", tensor)\n",
    "print(\"Dimension: \", tensor.ndim)"
   ]
  },
  {
   "cell_type": "code",
   "execution_count": 8,
   "metadata": {},
   "outputs": [
    {
     "name": "stdout",
     "output_type": "stream",
     "text": [
      "Original array  [ 0  1  2  3  4  5  6  7  8  9 10 11]\n",
      "\n",
      " Reshaped array  [[ 0  1  2  3]\n",
      " [ 4  5  6  7]\n",
      " [ 8  9 10 11]]\n",
      "\n",
      " Flattened array  [ 0  1  2  3  4  5  6  7  8  9 10 11]\n",
      "\n",
      " raveled array  [ 0  1  2  3  4  5  6  7  8  9 10 11]\n",
      "\n",
      " Transposed array  [[ 0  4  8]\n",
      " [ 1  5  9]\n",
      " [ 2  6 10]\n",
      " [ 3  7 11]]\n"
     ]
    }
   ],
   "source": [
    "arr = np.arange(12)\n",
    "print(\"Original array \", arr)\n",
    "# [0, 1, 2, 3, 4, 5, 6, 7, 8, 9, 10, 11]\n",
    "\n",
    "reshaped = arr.reshape((3, 4))\n",
    "print(\"\\n Reshaped array \", reshaped)\n",
    "# Making this to a 3x4 matrix \n",
    "\n",
    "flattened = reshaped.flatten()\n",
    "print(\"\\n Flattened array \", flattened)\n",
    "# Making this to a 1D array\n",
    "\n",
    "raveled = reshaped.ravel()\n",
    "print(\"\\n raveled array \", raveled)\n",
    "# ravel (returns view, instead of copy)\n",
    "\n",
    "transpose = reshaped.T\n",
    "print(\"\\n Transposed array \", transpose)\n",
    "# Transpose of an array"
   ]
  },
  {
   "cell_type": "markdown",
   "metadata": {},
   "source": [
    "# Practise"
   ]
  },
  {
   "cell_type": "code",
   "execution_count": 9,
   "metadata": {},
   "outputs": [
    {
     "ename": "AttributeError",
     "evalue": "module 'numpy' has no attribute 'zero'",
     "output_type": "error",
     "traceback": [
      "\u001b[31m---------------------------------------------------------------------------\u001b[39m",
      "\u001b[31mAttributeError\u001b[39m                            Traceback (most recent call last)",
      "\u001b[36mCell\u001b[39m\u001b[36m \u001b[39m\u001b[32mIn[9]\u001b[39m\u001b[32m, line 12\u001b[39m\n\u001b[32m      7\u001b[39m arr2 = np.array([[\u001b[32m1\u001b[39m,\u001b[32m2\u001b[39m,\u001b[32m3\u001b[39m,\u001b[32m4\u001b[39m], [\u001b[32m5\u001b[39m,\u001b[32m6\u001b[39m,\u001b[32m7\u001b[39m,\u001b[32m8\u001b[39m]])\n\u001b[32m      9\u001b[39m \u001b[38;5;66;03m# create a matrix \u001b[39;00m\n\u001b[32m     10\u001b[39m \n\u001b[32m     11\u001b[39m \u001b[38;5;66;03m# zero matrix\u001b[39;00m\n\u001b[32m---> \u001b[39m\u001b[32m12\u001b[39m zero_mat = \u001b[43mnp\u001b[49m\u001b[43m.\u001b[49m\u001b[43mzero\u001b[49m((\u001b[32m3\u001b[39m,\u001b[32m4\u001b[39m))\n\u001b[32m     14\u001b[39m \u001b[38;5;66;03m# ones matrix\u001b[39;00m\n\u001b[32m     15\u001b[39m ones_mat = np.ones((\u001b[32m3\u001b[39m,\u001b[32m4\u001b[39m))\n",
      "\u001b[36mFile \u001b[39m\u001b[32md:\\Coding_Stuff_ShardenduMishra\\Data-Science\\mvenv\\Lib\\site-packages\\numpy\\__init__.py:427\u001b[39m, in \u001b[36m__getattr__\u001b[39m\u001b[34m(attr)\u001b[39m\n\u001b[32m    424\u001b[39m     \u001b[38;5;28;01mimport\u001b[39;00m\u001b[38;5;250m \u001b[39m\u001b[34;01mnumpy\u001b[39;00m\u001b[34;01m.\u001b[39;00m\u001b[34;01mchar\u001b[39;00m\u001b[38;5;250m \u001b[39m\u001b[38;5;28;01mas\u001b[39;00m\u001b[38;5;250m \u001b[39m\u001b[34;01mchar\u001b[39;00m\n\u001b[32m    425\u001b[39m     \u001b[38;5;28;01mreturn\u001b[39;00m char.chararray\n\u001b[32m--> \u001b[39m\u001b[32m427\u001b[39m \u001b[38;5;28;01mraise\u001b[39;00m \u001b[38;5;167;01mAttributeError\u001b[39;00m(\u001b[33m\"\u001b[39m\u001b[33mmodule \u001b[39m\u001b[38;5;132;01m{!r}\u001b[39;00m\u001b[33m has no attribute \u001b[39m\u001b[33m\"\u001b[39m\n\u001b[32m    428\u001b[39m                      \u001b[33m\"\u001b[39m\u001b[38;5;132;01m{!r}\u001b[39;00m\u001b[33m\"\u001b[39m.format(\u001b[34m__name__\u001b[39m, attr))\n",
      "\u001b[31mAttributeError\u001b[39m: module 'numpy' has no attribute 'zero'"
     ]
    }
   ],
   "source": [
    "import numpy as np\n",
    "\n",
    "# create an array \n",
    "arr1 = np.array([1,2,3,4])\n",
    "\n",
    "# create a 2d array \n",
    "arr2 = np.array([[1,2,3,4], [5,6,7,8]])\n",
    "\n",
    "# create a matrix \n",
    "\n",
    "# zero matrix\n",
    "zero_mat = np.zero((3,4))\n",
    "\n",
    "# ones matrix\n",
    "ones_mat = np.ones((3,4))\n",
    "\n",
    "# creating a mat with a specific numbers\n",
    "full_mat = np.full((3,4), 5)\n",
    "\n",
    "# creating a random matrix\n",
    "random_mat = np.random.random((3,4))\n",
    "\n",
    "arr = np.array([[1, 2, 3], [4, 5, 6]])\n",
    "\n",
    "# Print Size\n",
    "print(\"Size: \", arr.size)\n",
    "\n",
    "# Print Shape \n",
    "print(\"Shape: \",arr.shape)\n",
    "\n",
    "# Print Data Type\n",
    "print(\"Data Type: \", arr.dtype)\n",
    "\n",
    "# Print Dimension \n",
    "print(\"The Dimension: \",arr.dmin)"
   ]
  },
  {
   "cell_type": "markdown",
   "metadata": {},
   "source": []
  }
 ],
 "metadata": {
  "kernelspec": {
   "display_name": "mvenv",
   "language": "python",
   "name": "python3"
  },
  "language_info": {
   "codemirror_mode": {
    "name": "ipython",
    "version": 3
   },
   "file_extension": ".py",
   "mimetype": "text/x-python",
   "name": "python",
   "nbconvert_exporter": "python",
   "pygments_lexer": "ipython3",
   "version": "3.13.1"
  }
 },
 "nbformat": 4,
 "nbformat_minor": 2
}
