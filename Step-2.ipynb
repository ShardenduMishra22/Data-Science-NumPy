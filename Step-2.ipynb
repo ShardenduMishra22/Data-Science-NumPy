{
 "cells": [
  {
   "cell_type": "code",
   "execution_count": 14,
   "metadata": {},
   "outputs": [
    {
     "name": "stdout",
     "output_type": "stream",
     "text": [
      "Slice from 1 to 4 :  [2 3 4]\n",
      "Slice from 2 to End :  [3 4 5]\n",
      "Slice from Start to 3 :  [1 2 3]\n"
     ]
    }
   ],
   "source": [
    "import numpy as np\n",
    "\n",
    "arr = np.array([1, 2, 3, 4, 5])\n",
    "\n",
    "print(\"Slice from 1 to 4 : \",arr[1:4])\n",
    "print(\"Slice from 2 to End : \",arr[2:])\n",
    "print(\"Slice from Start to 3 : \",arr[:3])"
   ]
  },
  {
   "cell_type": "code",
   "execution_count": 15,
   "metadata": {},
   "outputs": [
    {
     "name": "stdout",
     "output_type": "stream",
     "text": [
      "Unsorted Array :  [5 2 7 1 9 8 3 6 4]\n",
      "Sorted Array :  [1 2 3 4 5 6 7 8 9]\n"
     ]
    }
   ],
   "source": [
    "unsorted_arr = np.array([5,2,7,1,9,8,3,6,4])\n",
    "print(\"Unsorted Array : \",unsorted_arr)\n",
    "\n",
    "sorted_arr = np.sort(unsorted_arr)\n",
    "print(\"Sorted Array : \",sorted_arr)"
   ]
  },
  {
   "cell_type": "code",
   "execution_count": 16,
   "metadata": {},
   "outputs": [
    {
     "name": "stdout",
     "output_type": "stream",
     "text": [
      "Even Numbers:  [ 2  4  6  8 10 12 14]\n",
      "The Numbers are :  [ 2  4  6  8 10 12 14]\n"
     ]
    }
   ],
   "source": [
    "numbers = np.array([1,2,3,4,5,6,7,8,9,10,11,12,13,14,15])\n",
    "print(\"Even Numbers: \",numbers[numbers % 2 == 0])\n",
    "\n",
    "mask = numbers % 2 == 0\n",
    "print(\"The Numbers are : \",numbers[mask])"
   ]
  },
  {
   "cell_type": "markdown",
   "metadata": {},
   "source": [
    "# Indexing and Where"
   ]
  },
  {
   "cell_type": "code",
   "execution_count": 17,
   "metadata": {},
   "outputs": [
    {
     "name": "stdout",
     "output_type": "stream",
     "text": [
      "The Numbers are :  [2 4 5]\n",
      "The Numbers are :  [ 2  4  6  8 10 12 14]\n"
     ]
    }
   ],
   "source": [
    "group_indicies = [1,3,4]\n",
    "print(\"The Numbers are : \",numbers[group_indicies])\n",
    "\n",
    "where_result = np.where(numbers % 2 == 0)\n",
    "print(\"The Numbers are : \",numbers[where_result])\n",
    "# Same as Mask"
   ]
  },
  {
   "cell_type": "code",
   "execution_count": 18,
   "metadata": {},
   "outputs": [
    {
     "name": "stdout",
     "output_type": "stream",
     "text": [
      "The Numbers are :  ['Print This if False' 'Print This If True' 'Print This if False'\n",
      " 'Print This If True' 'Print This if False' 'Print This If True'\n",
      " 'Print This if False' 'Print This If True' 'Print This if False'\n",
      " 'Print This If True' 'Print This if False' 'Print This If True'\n",
      " 'Print This if False' 'Print This If True' 'Print This if False']\n"
     ]
    }
   ],
   "source": [
    "condition = np.where(numbers % 2 == 0,\"Print This If True\",\"Print This if False\")\n",
    "print(\"The Numbers are : \",condition)"
   ]
  },
  {
   "cell_type": "code",
   "execution_count": 19,
   "metadata": {},
   "outputs": [
    {
     "name": "stdout",
     "output_type": "stream",
     "text": [
      "Concatenated Array :  [ 1  2  3  4  5  6  7  8  9 10]\n"
     ]
    }
   ],
   "source": [
    "arr1 = np.array([1,2,3,4,5])\n",
    "arr2 = np.array([6,7,8,9,10])\n",
    "\n",
    "arr3 = np.concatenate((arr1,arr2))\n",
    "print(\"Concatenated Array : \",arr3)"
   ]
  },
  {
   "cell_type": "markdown",
   "metadata": {},
   "source": [
    "# Check If Shape is Same or Not"
   ]
  },
  {
   "cell_type": "code",
   "execution_count": 20,
   "metadata": {},
   "outputs": [
    {
     "name": "stdout",
     "output_type": "stream",
     "text": [
      "Is the shape of arr1 and arr2:  False\n",
      "Is the shape of arr1 and arr3:  True\n"
     ]
    }
   ],
   "source": [
    "arr1 = np.array([1,2,3,4])\n",
    "arr2 = np.array([5,6,7,8,9])\n",
    "arr3 = np.array([10,11,12,13])\n",
    "\n",
    "print(\"Is the shape of arr1 and arr2: \",arr1.shape == arr2.shape)\n",
    "print(\"Is the shape of arr1 and arr3: \",arr1.shape == arr3.shape)"
   ]
  },
  {
   "cell_type": "code",
   "execution_count": 21,
   "metadata": {},
   "outputs": [
    {
     "name": "stdout",
     "output_type": "stream",
     "text": [
      "Vertical Stack :  [[ 1  2]\n",
      " [ 3  4]\n",
      " [ 5  6]\n",
      " [ 7  8]\n",
      " [ 9 10]\n",
      " [11 12]]\n"
     ]
    }
   ],
   "source": [
    "# np.vstack() (vertical stack) is used to add a new row at the bottom of the existing original array.\n",
    "# new_row is the row that will be added.\n",
    "# original is the existing NumPy array.\n",
    "\n",
    "arr1 = np.array([[1,2],[3,4],[5,6],[7,8],[9,10]])\n",
    "new_row = np.array([[11,12]])\n",
    "\n",
    "arr2 = np.vstack((arr1,new_row))\n",
    "print(\"Vertical Stack : \",arr2)"
   ]
  },
  {
   "cell_type": "code",
   "execution_count": 22,
   "metadata": {},
   "outputs": [
    {
     "name": "stdout",
     "output_type": "stream",
     "text": [
      "Horizontal Stack:\n",
      " [[ 1  2 11]\n",
      " [ 3  4 12]\n",
      " [ 5  6 13]\n",
      " [ 7  8 14]\n",
      " [ 9 10 15]]\n"
     ]
    }
   ],
   "source": [
    "# np.hstack() (horizontal stack) is used to add a new row at the bottom of the existing original array.\n",
    "# new_row is the row that will be added.\n",
    "# original is the existing NumPy array.\n",
    "\n",
    "arr1 = np.array([[1, 2], [3, 4], [5, 6], [7, 8], [9, 10]])\n",
    "new_col = np.array([[11], [12], [13], [14], [15]])\n",
    "\n",
    "arr2 = np.hstack((arr1, new_col))\n",
    "print(\"Horizontal Stack:\\n\", arr2)"
   ]
  },
  {
   "cell_type": "code",
   "execution_count": 23,
   "metadata": {},
   "outputs": [
    {
     "name": "stdout",
     "output_type": "stream",
     "text": [
      "Deleted Array :  [ 1  3  4  5  6  7  8  9 10]\n"
     ]
    }
   ],
   "source": [
    "arr = np.array([1, 2, 3, 4, 5, 6, 7, 8, 9, 10])\n",
    "# np.delete(array_name, index_to_delete)\n",
    "deleted = np.delete(arr, 1)\n",
    "\n",
    "print(\"Deleted Array : \",deleted)"
   ]
  },
  {
   "cell_type": "markdown",
   "metadata": {},
   "source": [
    "# Practise"
   ]
  },
  {
   "cell_type": "code",
   "execution_count": 36,
   "metadata": {},
   "outputs": [
    {
     "name": "stdout",
     "output_type": "stream",
     "text": [
      "Array:  [11  2 33 14  5  6 71  4  8  9 10]\n",
      "Sliced Array 1:  [11  2 33 14  5  6 71  4  8  9 10]\n",
      "Sliced Array 2:  [ 2 33 14  5  6 71  4  8  9]\n",
      "Sliced Array 3:  [11 33  5 71  8 10]\n",
      "Sorted Array:  [ 2  4  5  6  8  9 10 11 14 33 71]\n",
      "Even Numbers:  [ 2 14  6  4  8 10]\n",
      "Odd Numbers:  [11 33  5 71  9]\n",
      "Even Numbers:  [ 2 14  6  4  8 10]\n",
      "Even Numbers:  [ 2 14  6  4  8 10]\n",
      "Concatenated Array:  [ 1  2  3  4  5  6  7  8  9 10]\n",
      "Is the shape of arrA and arrB:  False\n",
      "Is the shape of arrA and arrC:  True\n",
      "Vertical Stack: \n",
      " [[ 1  2]\n",
      " [ 3  4]\n",
      " [ 5  6]\n",
      " [ 7  8]\n",
      " [ 9 10]]\n",
      "Horizontal Stack: \n",
      " [[ 1  2 12]\n",
      " [ 3  4 34]\n",
      " [ 5  6 56]\n",
      " [ 7  8 78]]\n",
      "Deleted Array:  [ 1  2  3  4  6  7  8  9 10]\n"
     ]
    }
   ],
   "source": [
    "# arr[start:stop:step]\n",
    "# start: the starting index of the slice.\n",
    "# stop: the end index of the slice.\n",
    "# step: the step size of the slice.\n",
    "arr = np.array([11, 2, 33, 14, 5, 6, 71,4 ,8, 9, 10])\n",
    "\n",
    "print(\"Array: \", arr)\n",
    "\n",
    "# Slice Array 1\n",
    "sliced_arr1 = arr[0:]\n",
    "print(\"Sliced Array 1: \", sliced_arr1)\n",
    "\n",
    "# Slice Array 2\n",
    "sliced_arr2 = arr[1:-1]\n",
    "print(\"Sliced Array 2: \", sliced_arr2)\n",
    "\n",
    "# Slice Array 3\n",
    "sliced_arr3 = arr[::2]\n",
    "print(\"Sliced Array 3: \", sliced_arr3)\n",
    "\n",
    "# Sort The Array\n",
    "sort_arr = np.sort(arr)\n",
    "print(\"Sorted Array: \", sort_arr)\n",
    "\n",
    "# Even Numbers\n",
    "even_number = arr[arr % 2 == 0]\n",
    "print(\"Even Numbers: \", even_number)\n",
    "\n",
    "# Odd Numbers\n",
    "odd_number = arr[arr % 2 != 0]\n",
    "print(\"Odd Numbers: \", odd_number)\n",
    "\n",
    "# Using Mask \n",
    "mask = arr % 2 == 0\n",
    "even_number = arr[mask]\n",
    "print(\"Even Numbers: \", even_number)\n",
    "\n",
    "# Where Function\n",
    "where_arr = np.where(arr % 2 == 0)\n",
    "print(\"Even Numbers: \", arr[where_arr])\n",
    "\n",
    "# Concatenation of Arrays\n",
    "arr_1 = np.array([1, 2, 3, 4, 5])\n",
    "arr_2 = np.array([6, 7, 8, 9, 10])\n",
    "\n",
    "arr_combined = np.concatenate((arr_1, arr_2))\n",
    "print(\"Concatenated Array: \", arr_combined)\n",
    "\n",
    "# Check if the shape of two arrays are the same\n",
    "arrA = np.array([1, 2, 3, 4])\n",
    "arrB = np.array([5, 6, 7, 8, 9])\n",
    "arrC = np.array([10, 11, 12, 13])\n",
    "\n",
    "print(\"Is the shape of arrA and arrB: \", arrA.shape == arrB.shape)\n",
    "print(\"Is the shape of arrA and arrC: \", arrA.shape == arrC.shape)\n",
    "\n",
    "# Horizontal and Vertical Stack\n",
    "arr1 = np.array([[1, 2], [3, 4], [5, 6], [7, 8]])\n",
    "arr2 = np.array([[9, 10]])\n",
    "\n",
    "arr3 = np.vstack((arr1, arr2))\n",
    "print(\"Vertical Stack: \\n\", arr3)\n",
    "\n",
    "arr4 = np.array([[12],[34],[56],[78]])\n",
    "arr5 = np.hstack((arr1, arr4))\n",
    "print(\"Horizontal Stack: \\n\", arr5)\n",
    "\n",
    "arr = np.array([1, 2, 3, 4, 5, 6, 7, 8, 9, 10])\n",
    "deleted = np.delete(arr, 4)\n",
    "print(\"Deleted Array: \", deleted)"
   ]
  }
 ],
 "metadata": {
  "kernelspec": {
   "display_name": "mvenv",
   "language": "python",
   "name": "python3"
  },
  "language_info": {
   "codemirror_mode": {
    "name": "ipython",
    "version": 3
   },
   "file_extension": ".py",
   "mimetype": "text/x-python",
   "name": "python",
   "nbconvert_exporter": "python",
   "pygments_lexer": "ipython3",
   "version": "3.13.1"
  }
 },
 "nbformat": 4,
 "nbformat_minor": 2
}
