{
 "cells": [
  {
   "cell_type": "code",
   "execution_count": 2,
   "metadata": {},
   "outputs": [],
   "source": [
    "import numpy as np\n"
   ]
  },
  {
   "cell_type": "code",
   "execution_count": null,
   "metadata": {},
   "outputs": [
    {
     "name": "stdout",
     "output_type": "stream",
     "text": [
      "Slice from Start to 3 :  [1 2 3]\n",
      "Slice from 2 to End :  [3 4 5]\n"
     ]
    }
   ],
   "source": [
    "arr = np.array([1, 2, 3, 4, 5])\n",
    "\n",
    "print(\"Slice from 1 to 4 : \",arr[1:4])\n",
    "print(\"Slice from 2 to End : \",arr[2:])\n",
    "print(\"Slice from Start to 3 : \",arr[:3])\n"
   ]
  },
  {
   "cell_type": "code",
   "execution_count": 8,
   "metadata": {},
   "outputs": [
    {
     "name": "stdout",
     "output_type": "stream",
     "text": [
      "Unsorted Array :  [5 2 7 1 9 8 3 6 4]\n",
      "Sorted Array :  [1 2 3 4 5 6 7 8 9]\n"
     ]
    }
   ],
   "source": [
    "unsorted_arr = np.array([5,2,7,1,9,8,3,6,4])\n",
    "print(\"Unsorted Array : \",unsorted_arr)\n",
    "\n",
    "sorted_arr = np.sort(unsorted_arr)\n",
    "print(\"Sorted Array : \",sorted_arr)"
   ]
  },
  {
   "cell_type": "code",
   "execution_count": 14,
   "metadata": {},
   "outputs": [
    {
     "name": "stdout",
     "output_type": "stream",
     "text": [
      "Even Numbers:  [ 2  4  6  8 10 12 14]\n",
      "The Numbers are :  [ 2  4  6  8 10 12 14]\n"
     ]
    }
   ],
   "source": [
    "numbers = np.array([1,2,3,4,5,6,7,8,9,10,11,12,13,14,15])\n",
    "print(\"Even Numbers: \",numbers[numbers % 2 == 0])\n",
    "\n",
    "mask = numbers % 2 == 0\n",
    "print(\"The Numbers are : \",numbers[mask])"
   ]
  },
  {
   "cell_type": "markdown",
   "metadata": {},
   "source": [
    "# Indexing and Where"
   ]
  },
  {
   "cell_type": "code",
   "execution_count": 18,
   "metadata": {},
   "outputs": [
    {
     "name": "stdout",
     "output_type": "stream",
     "text": [
      "The Numbers are :  [2 4 5]\n",
      "The Numbers are :  [ 2  4  6  8 10 12 14]\n"
     ]
    }
   ],
   "source": [
    "group_indicies = [1,3,4]\n",
    "print(\"The Numbers are : \",numbers[group_indicies])\n",
    "\n",
    "where_result = np.where(numbers % 2 == 0)\n",
    "print(\"The Numbers are : \",numbers[where_result])\n",
    "# Same as Mask"
   ]
  },
  {
   "cell_type": "code",
   "execution_count": 24,
   "metadata": {},
   "outputs": [
    {
     "name": "stdout",
     "output_type": "stream",
     "text": [
      "The Numbers are :  ['Print This if False' 'Print This If True' 'Print This if False'\n",
      " 'Print This If True' 'Print This if False' 'Print This If True'\n",
      " 'Print This if False' 'Print This If True' 'Print This if False'\n",
      " 'Print This If True' 'Print This if False' 'Print This If True'\n",
      " 'Print This if False' 'Print This If True' 'Print This if False']\n"
     ]
    }
   ],
   "source": [
    "condition = np.where(numbers % 2 == 0,\"Print This If True\",\"Print This if False\")\n",
    "print(\"The Numbers are : \",condition)"
   ]
  },
  {
   "cell_type": "code",
   "execution_count": 26,
   "metadata": {},
   "outputs": [
    {
     "name": "stdout",
     "output_type": "stream",
     "text": [
      "Concatenated Array :  [ 1  2  3  4  5  6  7  8  9 10]\n"
     ]
    }
   ],
   "source": [
    "arr1 = np.array([1,2,3,4,5])\n",
    "arr2 = np.array([6,7,8,9,10])\n",
    "\n",
    "arr3 = np.concatenate((arr1,arr2))\n",
    "print(\"Concatenated Array : \",arr3)"
   ]
  },
  {
   "cell_type": "markdown",
   "metadata": {},
   "source": [
    "# Check If Shape is Same or Not"
   ]
  },
  {
   "cell_type": "code",
   "execution_count": 31,
   "metadata": {},
   "outputs": [
    {
     "name": "stdout",
     "output_type": "stream",
     "text": [
      "Is the shape of arr1 and arr2:  False\n",
      "Is the shape of arr1 and arr3:  True\n"
     ]
    }
   ],
   "source": [
    "arr1 = np.array([1,2,3,4])\n",
    "arr2 = np.array([5,6,7,8,9])\n",
    "arr3 = np.array([10,11,12,13])\n",
    "\n",
    "print(\"Is the shape of arr1 and arr2: \",arr1.shape == arr2.shape)\n",
    "print(\"Is the shape of arr1 and arr3: \",arr1.shape == arr3.shape)"
   ]
  },
  {
   "cell_type": "code",
   "execution_count": 41,
   "metadata": {},
   "outputs": [
    {
     "name": "stdout",
     "output_type": "stream",
     "text": [
      "Vertical Stack :  [[ 1  2]\n",
      " [ 3  4]\n",
      " [ 5  6]\n",
      " [ 7  8]\n",
      " [ 9 10]\n",
      " [11 12]]\n"
     ]
    }
   ],
   "source": [
    "# np.vstack() (vertical stack) is used to add a new row at the bottom of the existing original array.\n",
    "# new_row is the row that will be added.\n",
    "# original is the existing NumPy array.\n",
    "\n",
    "arr1 = np.array([[1,2],[3,4],[5,6],[7,8],[9,10]])\n",
    "new_row = np.array([[11,12]])\n",
    "\n",
    "arr2 = np.vstack((arr1,new_row))\n",
    "print(\"Vertical Stack : \",arr2)"
   ]
  },
  {
   "cell_type": "code",
   "execution_count": 45,
   "metadata": {},
   "outputs": [
    {
     "name": "stdout",
     "output_type": "stream",
     "text": [
      "Horizontal Stack:\n",
      " [[ 1  2 11]\n",
      " [ 3  4 12]\n",
      " [ 5  6 13]\n",
      " [ 7  8 14]\n",
      " [ 9 10 15]]\n"
     ]
    }
   ],
   "source": [
    "# np.hstack() (horizontal stack) is used to add a new row at the bottom of the existing original array.\n",
    "# new_row is the row that will be added.\n",
    "# original is the existing NumPy array.\n",
    "\n",
    "arr1 = np.array([[1, 2], [3, 4], [5, 6], [7, 8], [9, 10]])\n",
    "new_col = np.array([[11], [12], [13], [14], [15]])\n",
    "\n",
    "arr2 = np.hstack((arr1, new_col))\n",
    "print(\"Horizontal Stack:\\n\", arr2)"
   ]
  },
  {
   "cell_type": "code",
   "execution_count": 47,
   "metadata": {},
   "outputs": [
    {
     "name": "stdout",
     "output_type": "stream",
     "text": [
      "Deleted Array :  [ 1  3  4  5  6  7  8  9 10]\n"
     ]
    }
   ],
   "source": [
    "arr = np.array([1, 2, 3, 4, 5, 6, 7, 8, 9, 10])\n",
    "# np.delete(array_name, index_to_delete)\n",
    "deleted = np.delete(arr, 1)\n",
    "\n",
    "print(\"Deleted Array : \",deleted)"
   ]
  }
 ],
 "metadata": {
  "kernelspec": {
   "display_name": "mvenv",
   "language": "python",
   "name": "python3"
  },
  "language_info": {
   "codemirror_mode": {
    "name": "ipython",
    "version": 3
   },
   "file_extension": ".py",
   "mimetype": "text/x-python",
   "name": "python",
   "nbconvert_exporter": "python",
   "pygments_lexer": "ipython3",
   "version": "3.13.1"
  }
 },
 "nbformat": 4,
 "nbformat_minor": 2
}
